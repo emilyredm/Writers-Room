{
 "cells": [
  {
   "cell_type": "markdown",
   "id": "d278b144",
   "metadata": {},
   "source": [
    "# Writers Room: Interactive TV Show Concept Generator with Feedback Iterations"
   ]
  },
  {
   "cell_type": "code",
   "execution_count": 1,
   "id": "d06ffc9c",
   "metadata": {},
   "outputs": [],
   "source": [
    "# --- Imports ---\n",
    "from dotenv import load_dotenv\n",
    "import os\n",
    "from openai import OpenAI\n",
    "import json\n",
    "from pathlib import Path\n",
    "from uuid import uuid4\n",
    "from IPython.display import display, Markdown, clear_output\n",
    "import ipywidgets as widgets"
   ]
  },
  {
   "cell_type": "code",
   "execution_count": 2,
   "id": "dd9ee24c",
   "metadata": {},
   "outputs": [],
   "source": [
    "# --- Load Environment ---\n",
    "load_dotenv()\n",
    "client = OpenAI()"
   ]
  },
  {
   "cell_type": "code",
   "execution_count": 4,
   "id": "bbb7f874",
   "metadata": {},
   "outputs": [],
   "source": [
    "# --- Configuration ---\n",
    "MEMORY_FILE = Path(\"test3_writers_room_memory.json\")"
   ]
  },
  {
   "cell_type": "code",
   "execution_count": 5,
   "id": "6347156e",
   "metadata": {},
   "outputs": [],
   "source": [
    "# --- Memory Backend ---\n",
    "def init_memory():\n",
    "    if not MEMORY_FILE.exists():\n",
    "        with open(MEMORY_FILE, \"w\") as f:\n",
    "            json.dump({}, f)\n",
    "\n",
    "def save_to_memory(table: str, key: str, content):\n",
    "    init_memory()\n",
    "    with open(MEMORY_FILE, \"r+\") as f:\n",
    "        db = json.load(f)\n",
    "        db.setdefault(table, {})[key] = content\n",
    "        f.seek(0)\n",
    "        json.dump(db, f, indent=2)\n",
    "        f.truncate()\n",
    "\n",
    "def get_from_memory(table: str, key: str):\n",
    "    init_memory()\n",
    "    with open(MEMORY_FILE, \"r\") as f:\n",
    "        db = json.load(f)\n",
    "    return db.get(table, {}).get(key, None)"
   ]
  },
  {
   "cell_type": "code",
   "execution_count": 6,
   "id": "7813cc6d",
   "metadata": {},
   "outputs": [],
   "source": [
    "# --- Display Helper ---\n",
    "def display_output(text):\n",
    "    display(Markdown(f\"### Output:\\n{text}\"))"
   ]
  },
  {
   "cell_type": "code",
   "execution_count": 7,
   "id": "65921ffa",
   "metadata": {},
   "outputs": [],
   "source": [
    "# --- OpenAI Calls ---\n",
    "def generate_show_thesis(prompt):\n",
    "    response = client.chat.completions.create(\n",
    "        model=\"gpt-4o\",\n",
    "        messages=[\n",
    "            {\"role\": \"system\", \"content\": \"You are a TV writer brainstorming a show thesis.\"},\n",
    "            {\"role\": \"user\", \"content\": f\"Generate a compelling TV show thesis for this idea: {prompt}\"}\n",
    "        ],\n",
    "        temperature=0.7\n",
    "    )\n",
    "    return response.choices[0].message.content.strip()\n",
    "\n",
    "def revise_with_feedback(previous_output, feedback):\n",
    "    response = client.chat.completions.create(\n",
    "        model=\"gpt-4o\",\n",
    "        messages=[\n",
    "            {\"role\": \"system\", \"content\": \"You are a professional TV writer revising a show thesis based on feedback.\"},\n",
    "            {\"role\": \"user\", \"content\": f\"Here's the current thesis:\\n\\n{previous_output}\\n\\nPlease revise it based on this feedback:\\n{feedback}\"}\n",
    "        ],\n",
    "        temperature=0.7\n",
    "    )\n",
    "    return response.choices[0].message.content.strip()"
   ]
  },
  {
   "cell_type": "code",
   "execution_count": 10,
   "id": "ac89f608",
   "metadata": {},
   "outputs": [],
   "source": [
    "# --- Widget-Based Feedback Loop with History ---\n",
    "def interactive_feedback_loop(prompt):\n",
    "    versions = []\n",
    "    feedback_history = []\n",
    "\n",
    "    output_area = widgets.Output()\n",
    "    feedback_box = widgets.Textarea(\n",
    "        placeholder=\"Type feedback or leave blank to accept\",\n",
    "        description=\"Feedback:\",\n",
    "        layout=widgets.Layout(width='100%', height='80px')\n",
    "    )\n",
    "    next_button = widgets.Button(description=\"Submit Feedback\", button_style=\"primary\")\n",
    "    finish_button = widgets.Button(description=\"Finish & Save\", button_style=\"success\")\n",
    "\n",
    "    # Generate first draft\n",
    "    current_output = generate_show_thesis(prompt)\n",
    "    versions.append(current_output)\n",
    "\n",
    "    with output_area:\n",
    "        clear_output()\n",
    "        print(f\"🔹 Initial Show Thesis:\")\n",
    "        display_output(current_output)\n",
    "\n",
    "    def on_next_click(b):\n",
    "        feedback = feedback_box.value.strip()\n",
    "        if feedback:\n",
    "            feedback_history.append(feedback)\n",
    "            revised = revise_with_feedback(versions[-1], feedback)\n",
    "            versions.append(revised)\n",
    "            with output_area:\n",
    "                print(f\"\\n📝 Feedback: {feedback}\\n\")\n",
    "                print(f\"✅ New Version:\")\n",
    "                display_output(revised)\n",
    "            feedback_box.value = \"\"\n",
    "        else:\n",
    "            print(\"Press 'Finish & Save' to finalize.\")\n",
    "\n",
    "    def on_finish_click(b):\n",
    "        final = versions[-1]\n",
    "        save_to_memory(\"concept\", \"show_thesis\", {\n",
    "            \"final_thesis\": final,\n",
    "            \"feedback_history\": feedback_history\n",
    "        })\n",
    "        with output_area:\n",
    "            print(\"\\n✅ Final version saved to memory:\")\n",
    "            display_output(final)\n",
    "\n",
    "    next_button.on_click(on_next_click)\n",
    "    finish_button.on_click(on_finish_click)\n",
    "\n",
    "    ui = widgets.VBox([\n",
    "        output_area,\n",
    "        feedback_box,\n",
    "        widgets.HBox([next_button, finish_button])\n",
    "    ])\n",
    "\n",
    "    display(ui)"
   ]
  },
  {
   "cell_type": "code",
   "execution_count": null,
   "id": "e0d0d1d5",
   "metadata": {},
   "outputs": [],
   "source": [
    "# --- UI Prompt Entry ---\n",
    "prompt_input = widgets.Textarea(\n",
    "    #value=\"A Gen Z drama set at an elite ski racing academy in Aspen...\",\n",
    "    placeholder=\"Enter your show idea...\",\n",
    "    description=\"Prompt:\",\n",
    "    layout=widgets.Layout(width='100%', height='100px')\n",
    ")\n",
    "\n",
    "generate_button = widgets.Button(\n",
    "    description=\"Generate + Revise\",\n",
    "    button_style=\"success\"\n",
    ")\n",
    "\n",
    "ui_output = widgets.Output()\n",
    "\n",
    "def on_generate_clicked(b):\n",
    "    ui_output.clear_output()\n",
    "    with ui_output:\n",
    "        prompt = prompt_input.value\n",
    "        print(\"🎬 Starting Writers Room...\")\n",
    "        interactive_feedback_loop(prompt)\n",
    "\n",
    "generate_button.on_click(on_generate_clicked)\n",
    "\n",
    "display(widgets.VBox([prompt_input, generate_button, ui_output]))"
   ]
  }
 ],
 "metadata": {
  "kernelspec": {
   "display_name": ".venv",
   "language": "python",
   "name": "python3"
  },
  "language_info": {
   "codemirror_mode": {
    "name": "ipython",
    "version": 3
   },
   "file_extension": ".py",
   "mimetype": "text/x-python",
   "name": "python",
   "nbconvert_exporter": "python",
   "pygments_lexer": "ipython3",
   "version": "3.11.3"
  }
 },
 "nbformat": 4,
 "nbformat_minor": 5
}
