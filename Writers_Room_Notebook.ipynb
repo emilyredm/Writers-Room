{
 "cells": [
  {
   "cell_type": "markdown",
   "id": "84e0a5b8",
   "metadata": {},
   "source": [
    "# 🧠 Writers Room Notebook: Concept Generator + Feedback Loop"
   ]
  },
  {
   "cell_type": "code",
   "execution_count": 14,
   "id": "1a0bc679",
   "metadata": {},
   "outputs": [],
   "source": [
    "from dotenv import load_dotenv\n",
    "import os\n",
    "\n",
    "load_dotenv()  # Load from .env file\n",
    "\n",
    "import openai\n",
    "openai.api_key = os.getenv(\"OPENAI_API_KEY\")"
   ]
  },
  {
   "cell_type": "code",
   "execution_count": 4,
   "id": "8bd81627",
   "metadata": {},
   "outputs": [],
   "source": [
    "import json\n",
    "from pathlib import Path\n",
    "from uuid import uuid4\n",
    "from IPython.display import display, Markdown"
   ]
  },
  {
   "cell_type": "code",
   "execution_count": 7,
   "id": "20bf2608",
   "metadata": {},
   "outputs": [],
   "source": [
    "# === Configuration ===\n",
    "MEMORY_FILE = Path(\"writers_room_memory.json\")"
   ]
  },
  {
   "cell_type": "code",
   "execution_count": 8,
   "id": "d26255f4",
   "metadata": {},
   "outputs": [],
   "source": [
    "# === Memory Backend ===\n",
    "def init_memory():\n",
    "    if not MEMORY_FILE.exists():\n",
    "        with open(MEMORY_FILE, \"w\") as f:\n",
    "            json.dump({}, f)\n",
    "\n",
    "def save_to_memory(table: str, key: str, content):\n",
    "    init_memory()\n",
    "    with open(MEMORY_FILE, \"r+\") as f:\n",
    "        db = json.load(f)\n",
    "        db.setdefault(table, {})[key] = content\n",
    "        f.seek(0)\n",
    "        json.dump(db, f, indent=2)\n",
    "        f.truncate()\n",
    "\n",
    "def get_from_memory(table: str, key: str):\n",
    "    init_memory()\n",
    "    with open(MEMORY_FILE, \"r\") as f:\n",
    "        db = json.load(f)\n",
    "    return db.get(table, {}).get(key, None)"
   ]
  },
  {
   "cell_type": "code",
   "execution_count": 9,
   "id": "5b65cd3f",
   "metadata": {},
   "outputs": [],
   "source": [
    "def export_memory(file_path: str):\n",
    "    init_memory()\n",
    "    with open(MEMORY_FILE, \"r\") as src:\n",
    "        with open(file_path, \"w\") as dst:\n",
    "            dst.write(src.read())\n",
    "\n",
    "def import_memory(file_path: str):\n",
    "    with open(file_path, \"r\") as src:\n",
    "        with open(MEMORY_FILE, \"w\") as dst:\n",
    "            dst.write(src.read())"
   ]
  },
  {
   "cell_type": "code",
   "execution_count": 10,
   "id": "66647486",
   "metadata": {},
   "outputs": [],
   "source": [
    "# === UI Helpers ===\n",
    "def display_output(text):\n",
    "    display(Markdown(f\"### Output:\\n{text}\"))\n",
    "\n",
    "def choose_from_versions(versions):\n",
    "    for i, v in enumerate(versions):\n",
    "        display(Markdown(f\"**Version {i+1}:**\\n{v}\"))\n",
    "    index = int(input(\"Choose final version (number): \"))\n",
    "    return versions[index - 1]"
   ]
  },
  {
   "cell_type": "code",
   "execution_count": 11,
   "id": "497e3007",
   "metadata": {},
   "outputs": [],
   "source": [
    "# === Feedback Loop Utility ===\n",
    "def feedback_loop(component_name, generate_func, revise_func, prompt):\n",
    "    versions = []\n",
    "    output = generate_func(prompt)\n",
    "    versions.append(output)\n",
    "    display_output(output)\n",
    "\n",
    "    while True:\n",
    "        feedback = input(\"\\nFeedback? Press Enter to accept, or type your comments: \")\n",
    "        if not feedback:\n",
    "            break\n",
    "        output = revise_func(versions[-1], feedback)\n",
    "        versions.append(output)\n",
    "        display_output(output)\n",
    "\n",
    "    final = choose_from_versions(versions)\n",
    "    save_to_memory(\"concept\", component_name, final)\n",
    "    print(f\"\\n Final version saved to memory under 'concept' → '{component_name}'\")\n",
    "    return final"
   ]
  },
  {
   "cell_type": "code",
   "execution_count": 12,
   "id": "b5b2f4e7",
   "metadata": {},
   "outputs": [],
   "source": [
    "# === Mock LLM Integration ===\n",
    "def generate_show_thesis(prompt):\n",
    "    return f\"A gripping teen drama set in {prompt}, where ambition collides with loyalty.\"\n",
    "\n",
    "def revise_with_feedback(previous_output, feedback):\n",
    "    return previous_output + f\" (Revised with note: '{feedback}')\""
   ]
  },
  {
   "cell_type": "code",
   "execution_count": 13,
   "id": "980db8dc",
   "metadata": {},
   "outputs": [],
   "source": [
    "# === Try It Out ===\n",
    "prompt = \"an elite ski racing school in Aspen\"\n",
    "final_thesis = feedback_loop(\"show_thesis\", generate_show_thesis, revise_with_feedback, prompt)"
   ]
  },
  {
   "cell_type": "code",
   "execution_count": null,
   "id": "67c5b035",
   "metadata": {},
   "outputs": [],
   "source": [
    "# === Optional: Export/Import Memory ===\n",
    "# export_memory(\"backup_writers_room.json\")\n",
    "# import_memory(\"backup_writers_room.json\")"
   ]
  }
 ],
 "metadata": {
  "kernelspec": {
   "display_name": ".venv",
   "language": "python",
   "name": "python3"
  },
  "language_info": {
   "codemirror_mode": {
    "name": "ipython",
    "version": 3
   },
   "file_extension": ".py",
   "mimetype": "text/x-python",
   "name": "python",
   "nbconvert_exporter": "python",
   "pygments_lexer": "ipython3",
   "version": "3.11.3"
  }
 },
 "nbformat": 4,
 "nbformat_minor": 5
}
