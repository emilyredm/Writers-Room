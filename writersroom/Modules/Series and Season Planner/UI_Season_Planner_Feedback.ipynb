{
 "cells": [
  {
   "cell_type": "markdown",
   "id": "6fb51ba4",
   "metadata": {},
   "source": [
    "#  Writers Room: UI Feedback Loop for Season Planner"
   ]
  },
  {
   "cell_type": "code",
   "execution_count": null,
   "id": "d21b2db6",
   "metadata": {},
   "outputs": [],
   "source": [
    "import json\n",
    "from pathlib import Path\n",
    "from openai import OpenAI\n",
    "from dotenv import load_dotenv\n",
    "from IPython.display import display, Markdown, clear_output\n",
    "import ipywidgets as widgets\n",
    "\n",
    "load_dotenv()\n",
    "client = OpenAI()\n",
    "MEMORY_FILE = Path(\"../Memory/writers_room_memory.json\")"
   ]
  },
  {
   "cell_type": "code",
   "execution_count": null,
   "id": "302c9b69",
   "metadata": {},
   "outputs": [],
   "source": [
    "def init_memory():\n",
    "    MEMORY_FILE.parent.mkdir(parents=True, exist_ok=True)\n",
    "    if not MEMORY_FILE.exists():\n",
    "        with open(MEMORY_FILE, \"w\") as f:\n",
    "            json.dump({}, f)\n",
    "\n",
    "def load_memory():\n",
    "    init_memory()\n",
    "    with open(MEMORY_FILE, \"r\") as f:\n",
    "        return json.load(f)\n",
    "\n",
    "def save_to_memory(table: str, key: str, content):\n",
    "    init_memory()\n",
    "    with open(MEMORY_FILE, \"r+\") as f:\n",
    "        db = json.load(f)\n",
    "        db.setdefault(table, {})[key] = content\n",
    "        f.seek(0)\n",
    "        json.dump(db, f, indent=2)\n",
    "        f.truncate()"
   ]
  },
  {
   "cell_type": "code",
   "execution_count": null,
   "id": "251ce1ca",
   "metadata": {},
   "outputs": [],
   "source": [
    "def generate_season_arc(thesis, overview, episode_count):\n",
    "    response = client.chat.completions.create(\n",
    "        model=\"gpt-4o\",\n",
    "        messages=[\n",
    "            {\"role\": \"system\", \"content\": \"You are a showrunner writing a season arc.\"},\n",
    "            {\"role\": \"user\", \"content\": f\"Write a {episode_count}-episode arc for this show.\\n\\nThesis: {thesis}\\n\\nOverview: {overview}\"}\n",
    "        ],\n",
    "        temperature=0.7\n",
    "    )\n",
    "    return response.choices[0].message.content.strip()\n",
    "\n",
    "def revise_season_arc(previous_output, feedback):\n",
    "    response = client.chat.completions.create(\n",
    "        model=\"gpt-4o\",\n",
    "        messages=[\n",
    "            {\"role\": \"system\", \"content\": \"You are a showrunner revising a season arc.\"},\n",
    "            {\"role\": \"user\", \"content\": f\"Here's the current arc:\\n\\n{previous_output}\\n\\nPlease revise it based on this feedback:\\n{feedback}\"}\n",
    "        ],\n",
    "        temperature=0.7\n",
    "    )\n",
    "    return response.choices[0].message.content.strip()"
   ]
  },
  {
   "cell_type": "code",
   "execution_count": null,
   "id": "a82404bc",
   "metadata": {},
   "outputs": [],
   "source": [
    "def ui_feedback_loop(title, generate_func, revise_func, *args):\n",
    "    versions = []\n",
    "    feedback_history = []\n",
    "\n",
    "    current_output = generate_func(*args)\n",
    "    versions.append(current_output)\n",
    "\n",
    "    output_display = widgets.Output()\n",
    "    feedback_input = widgets.Textarea(placeholder='Type feedback or leave blank to finish')\n",
    "    revise_button = widgets.Button(description='Revise', button_style='primary')\n",
    "    complete_button = widgets.Button(description='Accept & Save', button_style='success')\n",
    "\n",
    "    def show_latest():\n",
    "        with output_display:\n",
    "            clear_output()\n",
    "            display(Markdown(f\"### {title} (Version {len(versions)})\\n\\n{versions[-1]}\"))\n",
    "\n",
    "    def on_revise_click(b):\n",
    "        feedback = feedback_input.value.strip()\n",
    "        if feedback:\n",
    "            feedback_history.append(feedback)\n",
    "            new_output = revise_func(versions[-1], feedback)\n",
    "            versions.append(new_output)\n",
    "            feedback_input.value = ''\n",
    "            show_latest()\n",
    "\n",
    "    def on_accept_click(b):\n",
    "        final_version = versions[-1]\n",
    "        save_to_memory(\"series_plan\", title.lower().replace(' ', '_'), {\n",
    "            \"final_version\": final_version,\n",
    "            \"feedback_history\": feedback_history\n",
    "        })\n",
    "        with output_display:\n",
    "            display(Markdown(f\"✅ **Saved final version to memory under 'series_plan' → '{title.lower().replace(' ', '_')}'**\"))\n",
    "\n",
    "    revise_button.on_click(on_revise_click)\n",
    "    complete_button.on_click(on_accept_click)\n",
    "\n",
    "    show_latest()\n",
    "    display(widgets.VBox([\n",
    "        output_display,\n",
    "        feedback_input,\n",
    "        widgets.HBox([revise_button, complete_button])\n",
    "    ]))"
   ]
  },
  {
   "cell_type": "code",
   "execution_count": null,
   "id": "53223abc",
   "metadata": {},
   "outputs": [
    {
     "data": {
      "application/vnd.jupyter.widget-view+json": {
       "model_id": "48e2c70e62b141d580ad1eed0a89ec51",
       "version_major": 2,
       "version_minor": 0
      },
      "text/plain": [
       "Dropdown(description='Season:', options=('season_1', 'season_2', 'season_3', 'season_4', 'season_5'), value='s…"
      ]
     },
     "metadata": {},
     "output_type": "display_data"
    },
    {
     "data": {
      "application/vnd.jupyter.widget-view+json": {
       "model_id": "6146c1dd364747529b97c9de26446fb3",
       "version_major": 2,
       "version_minor": 0
      },
      "text/plain": [
       "BoundedIntText(value=8, description='Episodes:', max=20, min=1)"
      ]
     },
     "metadata": {},
     "output_type": "display_data"
    },
    {
     "data": {
      "application/vnd.jupyter.widget-view+json": {
       "model_id": "2138f8d0dcd1499e8a48d10df389adf5",
       "version_major": 2,
       "version_minor": 0
      },
      "text/plain": [
       "Button(button_style='info', description='Generate Season Arc', style=ButtonStyle())"
      ]
     },
     "metadata": {},
     "output_type": "display_data"
    }
   ],
   "source": [
    "# Load memory and inputs\n",
    "memory = load_memory()\n",
    "thesis = memory.get(\"concept\", {}).get(\"show_thesis\", {}).get(\"final_thesis\", \"\")\n",
    "overview = memory.get(\"series_plan\", {}).get(\"series_overview\", {}).get(\"final_version\", \"\")\n",
    "if not thesis or not overview:\n",
    "    raise ValueError(\"❌ Missing show thesis or series overview. Please generate them first.\")\n",
    "\n",
    "# UI for choosing season and episode count\n",
    "season_dropdown = widgets.Dropdown(\n",
    "    options=[f\"season_{i}\" for i in range(1, 6)],\n",
    "    description='Season:',\n",
    "    value='season_1'\n",
    ")\n",
    "episode_input = widgets.BoundedIntText(value=10, min=1, max=20, description='Episodes:')\n",
    "run_button = widgets.Button(description='Generate Season Arc', button_style='info')\n",
    "\n",
    "def run_planner(b):\n",
    "    clear_output()\n",
    "    display(season_dropdown, episode_input, run_button)\n",
    "    ui_feedback_loop(season_dropdown.value, generate_season_arc, revise_season_arc, thesis, overview, episode_input.value)\n",
    "\n",
    "run_button.on_click(run_planner)\n",
    "display(season_dropdown, episode_input, run_button)"
   ]
  }
 ],
 "metadata": {
  "kernelspec": {
   "display_name": ".venv",
   "language": "python",
   "name": "python3"
  },
  "language_info": {
   "codemirror_mode": {
    "name": "ipython",
    "version": 3
   },
   "file_extension": ".py",
   "mimetype": "text/x-python",
   "name": "python",
   "nbconvert_exporter": "python",
   "pygments_lexer": "ipython3",
   "version": "3.11.3"
  }
 },
 "nbformat": 4,
 "nbformat_minor": 5
}
