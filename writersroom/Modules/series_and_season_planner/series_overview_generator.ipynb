{
 "cells": [
  {
   "cell_type": "markdown",
   "id": "8446f867",
   "metadata": {},
   "source": [
    "#  Writers Room: UI Feedback Loop for Series Overview"
   ]
  },
  {
   "cell_type": "code",
   "execution_count": null,
   "id": "698f2f1f",
   "metadata": {},
   "outputs": [],
   "source": [
    "import json\n",
    "from pathlib import Path\n",
    "from openai import OpenAI\n",
    "from dotenv import load_dotenv\n",
    "from IPython.display import display, Markdown, clear_output\n",
    "import ipywidgets as widgets\n",
    "\n",
    "load_dotenv()\n",
    "client = OpenAI()\n",
    "MEMORY_FILE = Path(\"../memory/writers_room_memory.json\")"
   ]
  },
  {
   "cell_type": "code",
   "execution_count": 2,
   "id": "56ab40ae",
   "metadata": {},
   "outputs": [],
   "source": [
    "def init_memory():\n",
    "    MEMORY_FILE.parent.mkdir(parents=True, exist_ok=True)\n",
    "    if not MEMORY_FILE.exists():\n",
    "        with open(MEMORY_FILE, \"w\") as f:\n",
    "            json.dump({}, f)\n",
    "\n",
    "def load_memory():\n",
    "    init_memory()\n",
    "    with open(MEMORY_FILE, \"r\") as f:\n",
    "        return json.load(f)\n",
    "\n",
    "def save_to_memory(table: str, key: str, content):\n",
    "    init_memory()\n",
    "    with open(MEMORY_FILE, \"r+\") as f:\n",
    "        db = json.load(f)\n",
    "        db.setdefault(table, {})[key] = content\n",
    "        f.seek(0)\n",
    "        json.dump(db, f, indent=2)\n",
    "        f.truncate()"
   ]
  },
  {
   "cell_type": "code",
   "execution_count": 3,
   "id": "eeef13a2",
   "metadata": {},
   "outputs": [],
   "source": [
    "def generate_series_overview(thesis):\n",
    "    response = client.chat.completions.create(\n",
    "        model=\"gpt-4o\",\n",
    "        messages=[\n",
    "            {\"role\": \"system\", \"content\": \"You are a showrunner developing a series overview.\"},\n",
    "            {\"role\": \"user\", \"content\": f\"Generate a series overview for: {thesis}\"}\n",
    "        ],\n",
    "        temperature=0.7\n",
    "    )\n",
    "    return response.choices[0].message.content.strip()\n",
    "\n",
    "def revise_series_overview(previous_output, feedback):\n",
    "    response = client.chat.completions.create(\n",
    "        model=\"gpt-4o\",\n",
    "        messages=[\n",
    "            {\"role\": \"system\", \"content\": \"You are a showrunner revising a series overview.\"},\n",
    "            {\"role\": \"user\", \"content\": f\"Revise this series overview:\\n\\n{previous_output}\\n\\nBased on this feedback:\\n{feedback}\"}\n",
    "        ],\n",
    "        temperature=0.7\n",
    "    )\n",
    "    return response.choices[0].message.content.strip()"
   ]
  },
  {
   "cell_type": "code",
   "execution_count": 10,
   "id": "c5d43b18",
   "metadata": {},
   "outputs": [],
   "source": [
    "def ui_feedback_loop(title, generate_func, revise_func, *args):\n",
    "    versions = []\n",
    "    feedback_history = []\n",
    "\n",
    "    # Initial output\n",
    "    current_output = generate_func(*args)\n",
    "    versions.append(current_output)\n",
    "\n",
    "    output_display = widgets.Output()\n",
    "    feedback_input = widgets.Textarea(placeholder='Type feedback or leave blank to finish')\n",
    "    revise_button = widgets.Button(description='Revise', button_style='primary')\n",
    "    complete_button = widgets.Button(description=f'Save Current Version', button_style='success')\n",
    "\n",
    "    def show_latest():\n",
    "        with output_display:\n",
    "            clear_output()\n",
    "            display(Markdown(f\"### {title} (Version {len(versions)})\\n\\n{versions[-1]}\"))\n",
    "\n",
    "    def on_revise_click(b):\n",
    "        feedback = feedback_input.value.strip()\n",
    "        if feedback:\n",
    "            feedback_history.append(feedback)\n",
    "            new_output = revise_func(versions[-1], feedback)\n",
    "            versions.append(new_output)\n",
    "            feedback_input.value = ''\n",
    "            show_latest()\n",
    "\n",
    "    def on_accept_click(b):\n",
    "        final_version = versions[-1]\n",
    "        save_to_memory(\"series_plan\", title.lower().replace(' ', '_'), {\n",
    "            \"final_version\": final_version,\n",
    "            \"feedback_history\": feedback_history\n",
    "        })\n",
    "        with output_display:\n",
    "            display(Markdown(f\"✅ **Saved Version {len(versions)} to memory under 'series_plan' → '{title.lower().replace(' ', '_')}'**\"))\n",
    "\n",
    "    revise_button.on_click(on_revise_click)\n",
    "    complete_button.on_click(on_accept_click)\n",
    "\n",
    "    show_latest()\n",
    "    display(widgets.VBox([\n",
    "        output_display,\n",
    "        feedback_input,\n",
    "        widgets.HBox([revise_button, complete_button])\n",
    "    ]))"
   ]
  },
  {
   "cell_type": "code",
   "execution_count": null,
   "id": "5e1830bc",
   "metadata": {},
   "outputs": [],
   "source": [
    "# Load thesis and run\n",
    "memory = load_memory()\n",
    "thesis = memory.get(\"concept\", {}).get(\"show_thesis\", {}).get(\"final_thesis\", \"\")\n",
    "if not thesis:\n",
    "    raise ValueError(\"❌ No final show thesis found. Please generate it first.\")\n",
    "ui_feedback_loop(\"Series Overview\", generate_series_overview, revise_series_overview, thesis)"
   ]
  }
 ],
 "metadata": {
  "kernelspec": {
   "display_name": ".venv",
   "language": "python",
   "name": "python3"
  },
  "language_info": {
   "codemirror_mode": {
    "name": "ipython",
    "version": 3
   },
   "file_extension": ".py",
   "mimetype": "text/x-python",
   "name": "python",
   "nbconvert_exporter": "python",
   "pygments_lexer": "ipython3",
   "version": "3.11.3"
  }
 },
 "nbformat": 4,
 "nbformat_minor": 5
}
